{
 "cells": [
  {
   "cell_type": "code",
   "execution_count": 1,
   "metadata": {},
   "outputs": [
    {
     "name": "stdout",
     "output_type": "stream",
     "text": [
      "20\n",
      "18\n"
     ]
    }
   ],
   "source": [
    "# 1. What is the concept of an abstract superclass?\n",
    "\n",
    "'''\n",
    "An abstract superclass, also known as an abstract base class (ABC), is a class that is designed to be inherited by other classes but is not meant to be instantiated directly. It serves as a blueprint for other classes and defines a common interface or structure that its subclasses must implement.\n",
    "\n",
    "Key Points about Abstract Superclasses:\n",
    "Abstractness: An abstract superclass may contain one or more abstract methods, which are methods declared but not implemented in the abstract class.\n",
    "\n",
    "Incomplete Implementation: Abstract methods in an abstract superclass do not provide a concrete implementation. Instead, they serve as placeholders, defining the method signature and possibly some documentation or requirements for subclasses.\n",
    "\n",
    "Forcing Implementation: Subclasses of an abstract superclass are required to provide concrete implementations for all abstract methods defined in the superclass. This enforces a contract between the superclass and its subclasses.\n",
    "\n",
    "Common Interface: Abstract superclasses define a common interface or behavior that its subclasses should adhere to. This promotes code consistency and allows polymorphic behavior when working with objects of different subclasses.\n",
    "\n",
    "'''\n",
    "\n",
    "from abc import ABC, abstractmethod\n",
    "\n",
    "class Shape(ABC):\n",
    "    @abstractmethod\n",
    "    def area(self):\n",
    "        pass\n",
    "    \n",
    "    @abstractmethod\n",
    "    def perimeter(self):\n",
    "        pass\n",
    "\n",
    "class Rectangle(Shape):\n",
    "    def __init__(self, width, height):\n",
    "        self.width = width\n",
    "        self.height = height\n",
    "    \n",
    "    def area(self):\n",
    "        return self.width * self.height\n",
    "    \n",
    "    def perimeter(self):\n",
    "        return 2 * (self.width + self.height)\n",
    "\n",
    "# Creating instances of subclasses\n",
    "rectangle = Rectangle(4, 5)\n",
    "print(rectangle.area())  # Outputs: 20\n",
    "print(rectangle.perimeter())  # Outputs: 18\n"
   ]
  },
  {
   "cell_type": "code",
   "execution_count": 2,
   "metadata": {},
   "outputs": [
    {
     "name": "stdout",
     "output_type": "stream",
     "text": [
      "I am a class attribute\n",
      "Instance attribute 1\n",
      "Instance attribute 2\n"
     ]
    }
   ],
   "source": [
    "# 2. What happens when a class statement&#39;s top level contains a basic assignment statement?\n",
    "\n",
    "'''When a class statement's top level contains a basic assignment statement, the statement is executed at the time the class is defined. This assignment statement is typically used to define class-level attributes, which are shared among all instances of the class.\n",
    "\n",
    "Here's what happens:\n",
    "\n",
    "Execution at Class Definition: When the Python interpreter encounters a class definition, it executes the code within the class body.\n",
    "\n",
    "Assignment of Class-Level Attribute: If there is a basic assignment statement at the top level of the class body (outside of any method definition), it assigns a value to a class-level attribute.\n",
    "\n",
    "Creation of Class Object: After executing the class body, a class object is created. This class object contains the attributes and methods defined within the class, including any class-level attributes assigned at the top level of the class body.'''\n",
    "\n",
    "class MyClass:\n",
    "    class_attribute = \"I am a class attribute\"\n",
    "\n",
    "    def __init__(self, instance_attribute):\n",
    "        self.instance_attribute = instance_attribute\n",
    "\n",
    "# Accessing class-level attribute\n",
    "print(MyClass.class_attribute)  # Outputs: I am a class attribute\n",
    "\n",
    "# Creating instances\n",
    "obj1 = MyClass(\"Instance attribute 1\")\n",
    "obj2 = MyClass(\"Instance attribute 2\")\n",
    "\n",
    "# Accessing instance attributes\n",
    "print(obj1.instance_attribute)  # Outputs: Instance attribute 1\n",
    "print(obj2.instance_attribute)  # Outputs: Instance attribute 2\n"
   ]
  },
  {
   "cell_type": "code",
   "execution_count": 3,
   "metadata": {},
   "outputs": [
    {
     "name": "stdout",
     "output_type": "stream",
     "text": [
      "SuperClass __init__ method\n",
      "SubClass __init__ method\n"
     ]
    }
   ],
   "source": [
    "# 3. Why does a class need to manually call a superclass&#39;s __init__ method?\n",
    "\n",
    "'''In Python, a class needs to manually call a superclass's __init__ method to ensure that initialization logic defined in the superclass is executed properly. This is particularly important when implementing inheritance, where a subclass inherits attributes and behavior from a superclass.\n",
    "\n",
    "Here's why a class needs to call a superclass's __init__ method manually:\n",
    "\n",
    "Initialization of Inherited Attributes: The __init__ method in a superclass typically initializes attributes specific to that class. When a subclass inherits from the superclass, it may need to initialize both its own attributes and those inherited from the superclass. By calling the superclass's __init__ method explicitly, the subclass ensures that the superclass's initialization logic is executed, initializing inherited attributes correctly.\n",
    "\n",
    "Preventing Attribute Overwriting: If the subclass defines its own __init__ method without calling the superclass's __init__ method, it may inadvertently overwrite or neglect to initialize inherited attributes. By calling the superclass's __init__ method explicitly within the subclass's __init__ method, the subclass ensures that both its own attributes and inherited attributes are properly initialized.\n",
    "\n",
    "Chain of Initialization: Calling the superclass's __init__ method within the subclass's __init__ method forms a chain of initialization, ensuring that initialization logic is executed in the correct order, starting from the most base class up to the subclass. This helps maintain the integrity and consistency of the object's state during initialization.'''\n",
    "\n",
    "class SuperClass:\n",
    "    def __init__(self, attribute1):\n",
    "        self.attribute1 = attribute1\n",
    "        print(\"SuperClass __init__ method\")\n",
    "\n",
    "class SubClass(SuperClass):\n",
    "    def __init__(self, attribute1, attribute2):\n",
    "        # Call superclass's __init__ method explicitly\n",
    "        super().__init__(attribute1)\n",
    "        self.attribute2 = attribute2\n",
    "        print(\"SubClass __init__ method\")\n",
    "\n",
    "# Creating an instance of SubClass\n",
    "obj = SubClass(\"value1\", \"value2\")\n"
   ]
  },
  {
   "cell_type": "code",
   "execution_count": 4,
   "metadata": {},
   "outputs": [
    {
     "name": "stdout",
     "output_type": "stream",
     "text": [
      "SuperClass method\n",
      "Additional functionality in SubClass\n"
     ]
    }
   ],
   "source": [
    "# 4. How can you augment, instead of completely replacing, an inherited method?\n",
    "\n",
    "'''\n",
    "\n",
    "You can augment (extend or modify) an inherited method in a subclass without completely replacing it by calling the superclass's method from within the subclass's method and then adding additional functionality before or after the call. This approach is often referred to as method overriding with extension.\n",
    "\n",
    "Here's how you can achieve this:\n",
    "\n",
    "Call Superclass Method: Inside the subclass's method, call the superclass's method using the super() function.\n",
    "Add Additional Functionality: Add additional functionality before or after the call to the superclass's method.\n",
    "'''\n",
    "\n",
    "class SuperClass:\n",
    "    def method(self):\n",
    "        print(\"SuperClass method\")\n",
    "\n",
    "class SubClass(SuperClass):\n",
    "    def method(self):\n",
    "        # Call superclass's method\n",
    "        super().method()\n",
    "\n",
    "        # Add additional functionality\n",
    "        print(\"Additional functionality in SubClass\")\n",
    "\n",
    "# Create an instance of SubClass\n",
    "obj = SubClass()\n",
    "\n",
    "# Call the method\n",
    "obj.method()\n",
    "\n",
    "\n"
   ]
  },
  {
   "cell_type": "code",
   "execution_count": 5,
   "metadata": {},
   "outputs": [
    {
     "data": {
      "text/plain": [
       "\"\\nThe local scope of a class and that of a function differ in several key aspects:\\n\\nEnclosing Scope:\\n\\nFunction: The local scope of a function is enclosed within the function's definition. Variables defined within the function are only accessible within that function.\\nClass: The local scope of a class is defined within the class body but outside of any method definitions. Variables defined at the class level (outside of methods) are accessible within the class and its instances.\\nAccessibility:\\n\\nFunction: Variables defined within a function's local scope are accessible only within that function. They cannot be directly accessed from outside the function.\\nClass: Class-level variables are accessible both within the class and its instances. They can be accessed using the class name or instances of the class.\\nLifetime:\\n\\nFunction: Variables defined within a function's local scope exist only for the duration of the function's execution. They are created when the function is called and destroyed when the function exits.\\nClass: Class-level variables exist for the duration of the program's execution (or until explicitly deleted). They are created when the class is defined and persist as long as the program runs.\\nPurpose:\\n\\nFunction: Local variables in a function are typically used for temporary storage of data or intermediate calculations within the context of that function.\\nClass: Class-level variables are used to define attributes and properties shared among all instances of the class. They represent characteristics or properties associated with the class itself rather than individual instances.\\nAccess Modifiers:\\n\\nFunction: In Python, there are no access modifiers like private or public for variables defined within a function's local scope. All variables are accessible within the function.\\nClass: Class-level variables can be designated as public, protected, or private using naming conventions (_ or __ prefixes) to indicate their intended access level. However, these conventions are primarily for documentation purposes, as Python does not enforce access control at runtime.\\n\\n\""
      ]
     },
     "execution_count": 5,
     "metadata": {},
     "output_type": "execute_result"
    }
   ],
   "source": [
    "# 5. How is the local scope of a class different from that of a function?\n",
    "\n",
    "'''\n",
    "The local scope of a class and that of a function differ in several key aspects:\n",
    "\n",
    "Enclosing Scope:\n",
    "\n",
    "Function: The local scope of a function is enclosed within the function's definition. Variables defined within the function are only accessible within that function.\n",
    "Class: The local scope of a class is defined within the class body but outside of any method definitions. Variables defined at the class level (outside of methods) are accessible within the class and its instances.\n",
    "Accessibility:\n",
    "\n",
    "Function: Variables defined within a function's local scope are accessible only within that function. They cannot be directly accessed from outside the function.\n",
    "Class: Class-level variables are accessible both within the class and its instances. They can be accessed using the class name or instances of the class.\n",
    "Lifetime:\n",
    "\n",
    "Function: Variables defined within a function's local scope exist only for the duration of the function's execution. They are created when the function is called and destroyed when the function exits.\n",
    "Class: Class-level variables exist for the duration of the program's execution (or until explicitly deleted). They are created when the class is defined and persist as long as the program runs.\n",
    "Purpose:\n",
    "\n",
    "Function: Local variables in a function are typically used for temporary storage of data or intermediate calculations within the context of that function.\n",
    "Class: Class-level variables are used to define attributes and properties shared among all instances of the class. They represent characteristics or properties associated with the class itself rather than individual instances.\n",
    "Access Modifiers:\n",
    "\n",
    "Function: In Python, there are no access modifiers like private or public for variables defined within a function's local scope. All variables are accessible within the function.\n",
    "Class: Class-level variables can be designated as public, protected, or private using naming conventions (_ or __ prefixes) to indicate their intended access level. However, these conventions are primarily for documentation purposes, as Python does not enforce access control at runtime.\n",
    "\n",
    "'''\n"
   ]
  },
  {
   "cell_type": "code",
   "execution_count": null,
   "metadata": {},
   "outputs": [],
   "source": []
  }
 ],
 "metadata": {
  "kernelspec": {
   "display_name": "Python 3",
   "language": "python",
   "name": "python3"
  },
  "language_info": {
   "codemirror_mode": {
    "name": "ipython",
    "version": 3
   },
   "file_extension": ".py",
   "mimetype": "text/x-python",
   "name": "python",
   "nbconvert_exporter": "python",
   "pygments_lexer": "ipython3",
   "version": "3.12.3"
  }
 },
 "nbformat": 4,
 "nbformat_minor": 2
}
